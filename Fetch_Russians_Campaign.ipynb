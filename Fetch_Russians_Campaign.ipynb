{
 "cells": [
  {
   "cell_type": "code",
   "execution_count": 37,
   "metadata": {},
   "outputs": [],
   "source": [
    "import re\n",
    "import requests\n",
    "from requests.auth import HTTPBasicAuth\n",
    "import csv\n",
    "import time\n",
    "from dotenv import find_dotenv, load_dotenv, get_key"
   ]
  },
  {
   "cell_type": "markdown",
   "metadata": {},
   "source": [
    "Собираем наши секретные данные из .env файла"
   ]
  },
  {
   "cell_type": "code",
   "execution_count": 38,
   "metadata": {},
   "outputs": [],
   "source": [
    "dotenv_path = find_dotenv()\n",
    "load_dotenv(dotenv_path)\n",
    "\n",
    "login = get_key(dotenv_path, (\"UBI_LOGIN\"))\n",
    "password = get_key(dotenv_path, (\"UBI_PASSWORD\"))\n",
    "user_agent = get_key(dotenv_path, (\"USER_AGENT\"))\n",
    "db = get_key(dotenv_path, (\"DATABASE\"))"
   ]
  },
  {
   "cell_type": "markdown",
   "metadata": {},
   "source": [
    "Заходим в юбисофт и берём токен первого уровня"
   ]
  },
  {
   "cell_type": "code",
   "execution_count": 39,
   "metadata": {},
   "outputs": [],
   "source": [
    "def get_ubisoft_token(login, password, user_agent):\n",
    "    url=\"https://public-ubiservices.ubi.com/v3/profiles/sessions\"\n",
    "    headers = {\n",
    "        'Content-Type': \"application/json\",\n",
    "        'Ubi-AppId': \"86263886-327a-4328-ac69-527f0d20a237\",\n",
    "        'User-Agent': user_agent\n",
    "    }\n",
    "    ubi_auth = HTTPBasicAuth(login, password)\n",
    "\n",
    "    ubi_res = requests.post(url, headers=headers, auth=ubi_auth)\n",
    "    ubi_res = ubi_res.json()\n",
    "\n",
    "    # ubisoft token\n",
    "    return ubi_res['ticket']\n",
    "\n",
    "ubi_token = get_ubisoft_token(login, password, user_agent)"
   ]
  },
  {
   "cell_type": "markdown",
   "metadata": {},
   "source": [
    "Получаем нандо токен к LiveServices"
   ]
  },
  {
   "cell_type": "code",
   "execution_count": 40,
   "metadata": {},
   "outputs": [],
   "source": [
    "def get_nadeo_token(ubi_token):\n",
    "    url = \"https://prod.trackmania.core.nadeo.online/v2/authentication/token/ubiservices\"\n",
    "    headers = {\n",
    "        'Content-Type': \"application/json\",\n",
    "        'Authorization': \"ubi_v1 t=\" + ubi_token,\n",
    "        'User-Agent': user_agent\n",
    "    }\n",
    "    body = {\n",
    "        'audience':'NadeoLiveServices'\n",
    "    }\n",
    "    res = requests.post(url, headers=headers, json=body)\n",
    "    res = res.json()\n",
    "\n",
    "    access_token = res['accessToken']\n",
    "    \n",
    "    return(access_token)\n",
    "\n",
    "nadeo_token = get_nadeo_token(ubi_token)"
   ]
  },
  {
   "cell_type": "markdown",
   "metadata": {},
   "source": [
    "Функция для парсинга лидерборда. В url указвается код кампании."
   ]
  },
  {
   "cell_type": "code",
   "execution_count": 41,
   "metadata": {},
   "outputs": [],
   "source": [
    "def get_leaderboard(nadeo_token, offset):\n",
    "\n",
    "    url = f\"https://live-services.trackmania.nadeo.live/api/token/leaderboard/group/28524e1c-351d-4b1c-b72e-5b1a6ee02cd1/top?length=100&onlyWorld=1&offset={offset}\"\n",
    "\n",
    "    headers = {\n",
    "        'Authorization': \"nadeo_v1 t=\" + nadeo_token,\n",
    "        'User-Agent': user_agent\n",
    "    }\n",
    "    res = requests.get(url, headers=headers)\n",
    "    res = res.json()\n",
    "    return res[\"tops\"][0][\"top\"]"
   ]
  },
  {
   "cell_type": "markdown",
   "metadata": {},
   "source": [
    "Проверка на русские символы, тем самым отбираем только россиян."
   ]
  },
  {
   "cell_type": "code",
   "execution_count": 42,
   "metadata": {},
   "outputs": [],
   "source": [
    "def check_russian_characters(string):\n",
    "    return (bool(re.search('[а-яА-Я]', string)) or bool(re.search('Russia', string)))"
   ]
  },
  {
   "cell_type": "markdown",
   "metadata": {},
   "source": [
    "Финалити, открываем csv таблицу и записываем в неё данные об игроках."
   ]
  },
  {
   "cell_type": "code",
   "execution_count": null,
   "metadata": {},
   "outputs": [],
   "source": [
    "place = 0\n",
    "with open(db, 'a', newline='') as file:\n",
    "    writer = csv.writer(file)\n",
    "    for i in range(100):\n",
    "        for obj in get_leaderboard(nadeo_token, i*100):\n",
    "            for key, value in obj.items():\n",
    "                if isinstance(value, str) and check_russian_characters(value):\n",
    "                    print([obj[\"accountId\"], obj[\"sp\"]])\n",
    "                    writer.writerow([place, obj[\"accountId\"], obj[\"sp\"]])\n",
    "                    place+=1\n",
    "        time.sleep(5)"
   ]
  }
 ],
 "metadata": {
  "kernelspec": {
   "display_name": ".venv",
   "language": "python",
   "name": "python3"
  },
  "language_info": {
   "codemirror_mode": {
    "name": "ipython",
    "version": 3
   },
   "file_extension": ".py",
   "mimetype": "text/x-python",
   "name": "python",
   "nbconvert_exporter": "python",
   "pygments_lexer": "ipython3",
   "version": "3.11.1"
  }
 },
 "nbformat": 4,
 "nbformat_minor": 2
}
